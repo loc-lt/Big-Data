{
 "cells": [
  {
   "cell_type": "markdown",
   "metadata": {
    "id": "T6CSXqBB7q26"
   },
   "source": [
    "Bài 3 – Gom cụm (20%)"
   ]
  },
  {
   "cell_type": "markdown",
   "metadata": {
    "id": "H0VSQHiC8g5c"
   },
   "source": [
    "Trong bài tập này, bạn sẽ làm việc trên tập dữ liệu plants về sự phân bố của một số loài thực vật ở\n",
    "khu vực Mỹ và Canada (tải dữ liệu từ http://archive.ics.uci.edu/ml/datasets/Plants). Lưu ý: có vùng\n",
    "phân bố không được liệt kê trong tập tin mô tả dữ liệu, cần đối chiếu với tập tin dữ liệu để xác định\n",
    "đúng danh sách vùng phân bố.\n",
    "Bạn cần thực nghiệm giải thuật gom cụm k-Means của MLlib trên dữ liệu được cho. Để hoàn tất\n",
    "yêu cầu của câu hỏi, các bước cần thực hiện là <br> <br>\n",
    "1) Đọc các tập tin cần thiết vào PySpark và áp dụng kỹ thuật tiền xử lý dữ liệu phù hợp để\n",
    "chuyển đổi dữ liệu về dạng vectơ nhị phân. Như vậy ta sẽ có một DataFrame bao gồm:\n",
    "• Cột đầu tiên thể hiện tên loài thực vật và các cột tiếp theo biểu diễn vùng địa lý.\n",
    "• Mỗi dòng thể hiện thông tin phân bố địa lý của nột loài thực vật – nếu loài thực vật\n",
    "có tại một vùng địa lý thì ô tương ứng mang giá trị 1, ngược lại mang giá trị 0.\n",
    "Lưu dữ liệu sau khi tiền xử lý thành tập tin plants.csv. Đính kèm khi nộp. <br> <br>\n",
    "2) Chương trình thực hiện gom cụm các loài thực vật theo vùng địa lý bằng giải thuật k-means\n",
    "và đánh giá kết quả gom cụm bằng ClusteringEvaluator. Thử nghiệm với một số giá trị k."
   ]
  },
  {
   "cell_type": "markdown",
   "metadata": {
    "id": "WeaOfxXA-JiZ"
   },
   "source": [
    "# Import thư viện"
   ]
  },
  {
   "cell_type": "code",
   "execution_count": null,
   "metadata": {
    "ExecuteTime": {
     "end_time": "2022-06-04T00:52:56.283676Z",
     "start_time": "2022-06-04T00:52:56.268721Z"
    },
    "executionInfo": {
     "elapsed": 376,
     "status": "ok",
     "timestamp": 1654006207231,
     "user": {
      "displayName": "Huy Huy",
      "userId": "00694366883977776279"
     },
     "user_tz": -420
    },
    "id": "7kMmXcIa-Hq3"
   },
   "outputs": [],
   "source": [
    "import pandas as pd\n",
    "import numpy as np"
   ]
  },
  {
   "cell_type": "markdown",
   "metadata": {
    "id": "bZUGSewr-YjK"
   },
   "source": [
    "## Cài đặt pyspark"
   ]
  },
  {
   "cell_type": "code",
   "execution_count": null,
   "metadata": {
    "ExecuteTime": {
     "end_time": "2022-06-04T00:38:03.893725Z",
     "start_time": "2022-06-04T00:38:01.771910Z"
    },
    "colab": {
     "background_save": true,
     "base_uri": "https://localhost:8080/"
    },
    "executionInfo": {
     "elapsed": 2913,
     "status": "ok",
     "timestamp": 1654006213028,
     "user": {
      "displayName": "Huy Huy",
      "userId": "00694366883977776279"
     },
     "user_tz": -420
    },
    "id": "MssmCOsi-X6U"
   },
   "outputs": [],
   "source": [
    "!pip install pyspark"
   ]
  },
  {
   "cell_type": "code",
   "execution_count": null,
   "metadata": {
    "ExecuteTime": {
     "end_time": "2022-06-04T00:38:05.805881Z",
     "start_time": "2022-06-04T00:38:03.894730Z"
    },
    "colab": {
     "background_save": true,
     "base_uri": "https://localhost:8080/"
    },
    "executionInfo": {
     "elapsed": 3102,
     "status": "ok",
     "timestamp": 1654006218495,
     "user": {
      "displayName": "Huy Huy",
      "userId": "00694366883977776279"
     },
     "user_tz": -420
    },
    "id": "dSirEs5B-iIN"
   },
   "outputs": [],
   "source": [
    "!pip install findspark"
   ]
  },
  {
   "cell_type": "code",
   "execution_count": null,
   "metadata": {
    "ExecuteTime": {
     "end_time": "2022-06-04T00:52:58.357356Z",
     "start_time": "2022-06-04T00:52:58.347381Z"
    },
    "colab": {
     "background_save": true,
     "base_uri": "https://localhost:8080/"
    },
    "executionInfo": {
     "elapsed": 5,
     "status": "ok",
     "timestamp": 1654006220529,
     "user": {
      "displayName": "Huy Huy",
      "userId": "00694366883977776279"
     },
     "user_tz": -420
    },
    "id": "DtN89sc7-xF0"
   },
   "outputs": [],
   "source": [
    "import findspark\n",
    "findspark.init()"
   ]
  },
  {
   "cell_type": "code",
   "execution_count": null,
   "metadata": {
    "ExecuteTime": {
     "end_time": "2022-06-04T00:53:53.972588Z",
     "start_time": "2022-06-04T00:53:53.342258Z"
    },
    "colab": {
     "background_save": true
    },
    "executionInfo": {
     "elapsed": 5,
     "status": "ok",
     "timestamp": 1654006224050,
     "user": {
      "displayName": "Huy Huy",
      "userId": "00694366883977776279"
     },
     "user_tz": -420
    },
    "id": "kB4YWd5e-zQ6"
   },
   "outputs": [],
   "source": [
    "from pyspark.sql import SparkSession # required to created a dataframe\n",
    "spark=SparkSession.builder.appName(\"Basics\").getOrCreate() \n"
   ]
  },
  {
   "cell_type": "markdown",
   "metadata": {
    "id": "c6af62Qk7upz"
   },
   "source": [
    "# Đọc dữ liệu"
   ]
  },
  {
   "cell_type": "code",
   "execution_count": null,
   "metadata": {
    "colab": {
     "background_save": true,
     "base_uri": "https://localhost:8080/"
    },
    "executionInfo": {
     "elapsed": 382,
     "status": "ok",
     "timestamp": 1654006228676,
     "user": {
      "displayName": "Huy Huy",
      "userId": "00694366883977776279"
     },
     "user_tz": -420
    },
    "id": "LntBX_8a8z_D"
   },
   "outputs": [],
   "source": [
    "!ls data"
   ]
  },
  {
   "cell_type": "code",
   "execution_count": null,
   "metadata": {
    "ExecuteTime": {
     "end_time": "2022-06-04T00:53:48.604178Z",
     "start_time": "2022-06-04T00:53:48.588863Z"
    },
    "colab": {
     "background_save": true
    },
    "executionInfo": {
     "elapsed": 373,
     "status": "ok",
     "timestamp": 1654006232194,
     "user": {
      "displayName": "Huy Huy",
      "userId": "00694366883977776279"
     },
     "user_tz": -420
    },
    "id": "lZqOFzxT80BU"
   },
   "outputs": [],
   "source": [
    "\n",
    "plants_data = spark.read.load(\"../../Bai3/data/plants.data\", format=\"csv\", header=False, delimiter=\",\")\n"
   ]
  },
  {
   "cell_type": "code",
   "execution_count": null,
   "metadata": {
    "colab": {
     "background_save": true,
     "base_uri": "https://localhost:8080/"
    },
    "executionInfo": {
     "elapsed": 13,
     "status": "ok",
     "timestamp": 1654006236912,
     "user": {
      "displayName": "Huy Huy",
      "userId": "00694366883977776279"
     },
     "user_tz": -420
    },
    "id": "z5f2lfiG7usP"
   },
   "outputs": [],
   "source": [
    "plants_data.show()"
   ]
  },
  {
   "cell_type": "markdown",
   "metadata": {
    "id": "69boWvY_bbuR"
   },
   "source": [
    "# Tiền xử lý"
   ]
  },
  {
   "cell_type": "markdown",
   "metadata": {
    "id": "4s2sWiOEbmxx"
   },
   "source": [
    "Nối các cột với nhau"
   ]
  },
  {
   "cell_type": "code",
   "execution_count": null,
   "metadata": {
    "colab": {
     "background_save": true,
     "base_uri": "https://localhost:8080/"
    },
    "executionInfo": {
     "elapsed": 389,
     "status": "ok",
     "timestamp": 1654006243591,
     "user": {
      "displayName": "Huy Huy",
      "userId": "00694366883977776279"
     },
     "user_tz": -420
    },
    "id": "B9DGAYzzo8CS"
   },
   "outputs": [],
   "source": [
    "from pyspark.sql.functions import expr, split, explode\n",
    "\n",
    "df_cau3 = plants_data.withColumn(\"value\", expr(\" _c0 || ',' || _c1 || ',' || _c2\"))\n",
    "df_cau3.show()"
   ]
  },
  {
   "cell_type": "markdown",
   "metadata": {
    "id": "lLt6fWC8brhN"
   },
   "source": [
    "Tạo cột name và cột location"
   ]
  },
  {
   "cell_type": "code",
   "execution_count": null,
   "metadata": {
    "colab": {
     "background_save": true
    },
    "executionInfo": {
     "elapsed": 366,
     "status": "ok",
     "timestamp": 1654006253556,
     "user": {
      "displayName": "Huy Huy",
      "userId": "00694366883977776279"
     },
     "user_tz": -420
    },
    "id": "rJ5MmZVoigqh"
   },
   "outputs": [],
   "source": [
    "\n",
    "df_cau3 = df_cau3.withColumn(\"row_ar\", split(\"value\", \",\")) \\\n",
    "  .select( \\\n",
    "          expr(\"row_ar[0]\").alias(\"name\"),\n",
    "          expr(\"trim('[]', string(slice(row_ar, 2, size(row_ar) - 1)))\").alias(\"location\")\n",
    "  )"
   ]
  },
  {
   "cell_type": "code",
   "execution_count": null,
   "metadata": {
    "colab": {
     "background_save": true,
     "base_uri": "https://localhost:8080/"
    },
    "executionInfo": {
     "elapsed": 10,
     "status": "ok",
     "timestamp": 1654006255823,
     "user": {
      "displayName": "Huy Huy",
      "userId": "00694366883977776279"
     },
     "user_tz": -420
    },
    "id": "wAySqaeBm2wM"
   },
   "outputs": [],
   "source": [
    "df_cau3.show()"
   ]
  },
  {
   "cell_type": "markdown",
   "metadata": {
    "id": "E0Dgr44gcAT3"
   },
   "source": [
    "Tách nội dung ở cột location thành các mảng"
   ]
  },
  {
   "cell_type": "code",
   "execution_count": null,
   "metadata": {
    "colab": {
     "background_save": true,
     "base_uri": "https://localhost:8080/"
    },
    "executionInfo": {
     "elapsed": 378,
     "status": "ok",
     "timestamp": 1654006269525,
     "user": {
      "displayName": "Huy Huy",
      "userId": "00694366883977776279"
     },
     "user_tz": -420
    },
    "id": "zspJHf-cm3Mm"
   },
   "outputs": [],
   "source": [
    "df_cau3 = df_cau3.withColumn('list_sa', split(\"location\", ',')) \\\n",
    "  .select( \\\n",
    "      df_cau3.name,\n",
    "      expr('list_sa')\n",
    "  )\n",
    "df_cau3.show()"
   ]
  },
  {
   "cell_type": "markdown",
   "metadata": {
    "id": "pQmSC14lcBbq"
   },
   "source": [
    "Sử dụng explode để khám phá từng giá trị trong mảng"
   ]
  },
  {
   "cell_type": "code",
   "execution_count": null,
   "metadata": {
    "colab": {
     "background_save": true
    },
    "executionInfo": {
     "elapsed": 5,
     "status": "ok",
     "timestamp": 1654006278758,
     "user": {
      "displayName": "Huy Huy",
      "userId": "00694366883977776279"
     },
     "user_tz": -420
    },
    "id": "E9jJ3RJgm3PT"
   },
   "outputs": [],
   "source": [
    "df_cau3 = df_cau3.select(df_cau3.name, explode(df_cau3.list_sa))"
   ]
  },
  {
   "cell_type": "markdown",
   "metadata": {
    "id": "J6aIXSgMcH-P"
   },
   "source": [
    "Sử dụng groupby và chuyển về dạng pivot để được các cột với giá trị 1"
   ]
  },
  {
   "cell_type": "code",
   "execution_count": null,
   "metadata": {
    "colab": {
     "background_save": true,
     "base_uri": "https://localhost:8080/"
    },
    "executionInfo": {
     "elapsed": 2503,
     "status": "ok",
     "timestamp": 1654006285250,
     "user": {
      "displayName": "Huy Huy",
      "userId": "00694366883977776279"
     },
     "user_tz": -420
    },
    "id": "NyhoN7dQm3Rv"
   },
   "outputs": [],
   "source": [
    "from pyspark.sql.functions import lit\n",
    "\n",
    "df_cau = df_cau3.withColumn('flag', lit(1))\n",
    "pivotDF = df_cau.groupBy('name').pivot('col').sum()\n",
    "pivotDF.show()"
   ]
  },
  {
   "cell_type": "markdown",
   "metadata": {
    "id": "ZUheu3U6cOIo"
   },
   "source": [
    "Điền các giá trị null bằng giá trị 0"
   ]
  },
  {
   "cell_type": "code",
   "execution_count": null,
   "metadata": {
    "colab": {
     "background_save": true,
     "base_uri": "https://localhost:8080/"
    },
    "executionInfo": {
     "elapsed": 2118,
     "status": "ok",
     "timestamp": 1654006297309,
     "user": {
      "displayName": "Huy Huy",
      "userId": "00694366883977776279"
     },
     "user_tz": -420
    },
    "id": "NzP3z-0-m3T9"
   },
   "outputs": [],
   "source": [
    "pivotDF = pivotDF.na.fill(value=0)\n",
    "pivotDF.show()\n"
   ]
  },
  {
   "cell_type": "code",
   "execution_count": null,
   "metadata": {
    "colab": {
     "background_save": true,
     "base_uri": "https://localhost:8080/"
    },
    "executionInfo": {
     "elapsed": 24,
     "status": "ok",
     "timestamp": 1654005684510,
     "user": {
      "displayName": "Huy Huy",
      "userId": "00694366883977776279"
     },
     "user_tz": -420
    },
    "id": "9rRdnpEoaDKy"
   },
   "outputs": [],
   "source": [
    "print(len(pivotDF.columns))"
   ]
  },
  {
   "cell_type": "markdown",
   "metadata": {
    "id": "xZ7ZXiMUYp05"
   },
   "source": [
    "# Lưu dữ liệu "
   ]
  },
  {
   "cell_type": "code",
   "execution_count": null,
   "metadata": {
    "colab": {
     "background_save": true
    },
    "executionInfo": {
     "elapsed": 2391,
     "status": "ok",
     "timestamp": 1654006306032,
     "user": {
      "displayName": "Huy Huy",
      "userId": "00694366883977776279"
     },
     "user_tz": -420
    },
    "id": "PVqyMBukm3Ys"
   },
   "outputs": [],
   "source": [
    "pivotDF.write.csv(\"../../output/plants_csv\")"
   ]
  },
  {
   "cell_type": "markdown",
   "metadata": {
    "id": "QPXR9ilGbRht"
   },
   "source": [
    "# Vector Assember các thuộc tính để đưa vào huấn luyện"
   ]
  },
  {
   "cell_type": "markdown",
   "metadata": {
    "id": "zqy2iKX4YElY"
   },
   "source": [
    "Tạo vector đặc trưng từ DataFrame\n",
    "Để tạo vector đặc trưng (feature vector) cho từng dòng dữ liệu, dùng lớp VectorAssembler để ghép giá trị ở các cột trong DataFrame thành một cột mới chứa vector đặc trưng:"
   ]
  },
  {
   "cell_type": "code",
   "execution_count": null,
   "metadata": {
    "colab": {
     "background_save": true,
     "base_uri": "https://localhost:8080/"
    },
    "executionInfo": {
     "elapsed": 2428,
     "status": "ok",
     "timestamp": 1654006330344,
     "user": {
      "displayName": "Huy Huy",
      "userId": "00694366883977776279"
     },
     "user_tz": -420
    },
    "id": "pUtmUTmRMh2S"
   },
   "outputs": [],
   "source": [
    "from pyspark.ml.feature import VectorAssembler\n",
    "\n",
    "assembler = VectorAssembler(inputCols = list(pivotDF.columns)[1:], \n",
    "                            outputCol=\"features\") \n",
    "plants_features = assembler.transform(pivotDF) \n",
    "plants_features.show(5)"
   ]
  },
  {
   "cell_type": "markdown",
   "metadata": {
    "id": "1eJsj6uqYcSV"
   },
   "source": [
    "Lúc này dữ liệu đã sẵn sàng để đưa vào huấn luyện mô hình ML (ở đây là K-means). Gỉa sử chọn số cụm là 30, tiến hành huấn luyện mô hình K-means với PySpark bằng các lệnh sau:"
   ]
  },
  {
   "cell_type": "code",
   "execution_count": null,
   "metadata": {
    "colab": {
     "background_save": true
    },
    "executionInfo": {
     "elapsed": 6842,
     "status": "ok",
     "timestamp": 1654006361530,
     "user": {
      "displayName": "Huy Huy",
      "userId": "00694366883977776279"
     },
     "user_tz": -420
    },
    "id": "WCLFVWivMh7y"
   },
   "outputs": [],
   "source": [
    "from pyspark.ml.clustering import KMeans\n",
    "\n",
    "kmeans = KMeans().setK(30).setSeed(0)\n",
    "model = kmeans.fit(plants_features)"
   ]
  },
  {
   "cell_type": "markdown",
   "metadata": {
    "id": "4B-AVM5SZa4M"
   },
   "source": [
    "Hiển thị kết quả"
   ]
  },
  {
   "cell_type": "code",
   "execution_count": null,
   "metadata": {
    "colab": {
     "background_save": true,
     "base_uri": "https://localhost:8080/"
    },
    "executionInfo": {
     "elapsed": 3459,
     "status": "ok",
     "timestamp": 1654006368884,
     "user": {
      "displayName": "Huy Huy",
      "userId": "00694366883977776279"
     },
     "user_tz": -420
    },
    "id": "SPzbZg-EMh-D"
   },
   "outputs": [],
   "source": [
    "predictions = model.transform(plants_features)\n",
    "from pyspark.ml.evaluation import ClusteringEvaluator\n",
    "\n",
    "# Evaluate clustering by computing Silhouette score\n",
    "evaluator = ClusteringEvaluator()\n",
    "silhouette = evaluator.evaluate(predictions)\n",
    "print(\"Silhouette with squared euclidean distance = \" + str(silhouette))"
   ]
  },
  {
   "cell_type": "markdown",
   "metadata": {
    "id": "CeBTFz3uQljL"
   },
   "source": [
    "# Thử nhiệm với K = 50, 100, 150, 200"
   ]
  },
  {
   "cell_type": "code",
   "execution_count": null,
   "metadata": {
    "colab": {
     "background_save": true,
     "base_uri": "https://localhost:8080/"
    },
    "executionInfo": {
     "elapsed": 42641,
     "status": "ok",
     "timestamp": 1654006417973,
     "user": {
      "displayName": "Huy Huy",
      "userId": "00694366883977776279"
     },
     "user_tz": -420
    },
    "id": "mfn-2hd1MiAu"
   },
   "outputs": [],
   "source": [
    "def test_kmeans(data, k):\n",
    "  kmeans = KMeans().setK(k).setSeed(0)\n",
    "  model = kmeans.fit(data)\n",
    "\n",
    "  predictions = model.transform(data)\n",
    "\n",
    "  #test\n",
    "  evaluator = ClusteringEvaluator()\n",
    "  silhouette = evaluator.evaluate(predictions)\n",
    "  print(\"Silhouette with squared euclidean distance = \" + str(silhouette))\n",
    "\n",
    "test_kmeans(plants_features, 5)\n",
    "test_kmeans(plants_features, 100)\n",
    "test_kmeans(plants_features, 150)\n",
    "test_kmeans(plants_features, 200)"
   ]
  }
 ],
 "metadata": {
  "colab": {
   "authorship_tag": "ABX9TyOMflwjlNPkfHM1slufY6o+",
   "collapsed_sections": [],
   "mount_file_id": "1UvrfFUQo_yhwc6lI9UmW1cwYS2zIEl5x",
   "name": "Lab4.ipynb",
   "version": ""
  },
  "interpreter": {
   "hash": "f2ccb58c476f33ba3e3aee7ac07234ef6b8217ef24ad64d2a7d4fed1a57c1cd2"
  },
  "kernelspec": {
   "display_name": "Python 3 (ipykernel)",
   "language": "python",
   "name": "python3"
  },
  "language_info": {
   "codemirror_mode": {
    "name": "ipython",
    "version": 3
   },
   "file_extension": ".py",
   "mimetype": "text/x-python",
   "name": "python",
   "nbconvert_exporter": "python",
   "pygments_lexer": "ipython3",
   "version": "3.9.7"
  },
  "toc": {
   "base_numbering": 1,
   "nav_menu": {},
   "number_sections": true,
   "sideBar": true,
   "skip_h1_title": false,
   "title_cell": "Table of Contents",
   "title_sidebar": "Contents",
   "toc_cell": false,
   "toc_position": {},
   "toc_section_display": true,
   "toc_window_display": false
  }
 },
 "nbformat": 4,
 "nbformat_minor": 1
}
