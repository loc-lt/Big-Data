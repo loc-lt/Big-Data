{
 "cells": [
  {
   "cell_type": "code",
   "execution_count": null,
   "metadata": {
    "ExecuteTime": {
     "end_time": "2022-06-04T00:45:54.369418Z",
     "start_time": "2022-06-04T00:45:54.353649Z"
    }
   },
   "outputs": [],
   "source": [
    "from pyspark import SparkContext,SQLContext,SparkConf,StorageLevel\n",
    "from pyspark.sql import SparkSession\n",
    "from pyspark.conf import SparkConf\n",
    "spark = SparkSession.builder.config(conf=SparkConf())"
   ]
  },
  {
   "cell_type": "code",
   "execution_count": null,
   "metadata": {
    "colab": {
     "base_uri": "https://localhost:8080/"
    },
    "executionInfo": {
     "elapsed": 55671,
     "status": "ok",
     "timestamp": 1654195945583,
     "user": {
      "displayName": "Lộc Lê Thành",
      "userId": "02423562964459752869"
     },
     "user_tz": -420
    },
    "id": "O-N3gaOEwfAH",
    "outputId": "903e5efb-84de-4923-a51b-c274b794c9c6",
    "scrolled": true
   },
   "outputs": [],
   "source": [
    "!pip install pyspark"
   ]
  },
  {
   "cell_type": "markdown",
   "metadata": {
    "id": "7YZhTmOX39UZ"
   },
   "source": [
    "## Set up SparkContext and SparkSession"
   ]
  },
  {
   "cell_type": "code",
   "execution_count": null,
   "metadata": {
    "ExecuteTime": {
     "end_time": "2022-06-04T00:50:51.922095Z",
     "start_time": "2022-06-04T00:50:51.902776Z"
    },
    "id": "qaBn7o_830cf"
   },
   "outputs": [],
   "source": [
    "# Load our Pkgs\n",
    "from pyspark import SparkContext\n",
    "import findspark\n",
    "findspark.init()\n",
    "\n",
    "import pyspark.sql.functions as f \n",
    "\n",
    "# Thư viện FPGrowth để áp dụng giải thuật khai thác mẫu phổ biến và luật kết hợp\n",
    "from pyspark.ml.fpm import FPGrowth\n",
    "\n",
    "import pyspark # only run after findspark.init()\n",
    "from pyspark.sql import SparkSession\n"
   ]
  },
  {
   "cell_type": "code",
   "execution_count": null,
   "metadata": {
    "id": "5YywePiewgqU"
   },
   "outputs": [],
   "source": [
    "# Load Pkgs \n",
    "from pyspark.sql import SparkSession"
   ]
  },
  {
   "cell_type": "code",
   "execution_count": null,
   "metadata": {
    "ExecuteTime": {
     "end_time": "2022-06-04T00:50:55.100125Z",
     "start_time": "2022-06-04T00:50:54.453964Z"
    },
    "id": "Wr83v6Wxwzu4"
   },
   "outputs": [],
   "source": [
    "# Spark\n",
    "spark = SparkSession.builder.appName(\"MLwithSpark\").getOrCreate()"
   ]
  },
  {
   "cell_type": "markdown",
   "metadata": {
    "id": "8XRzUzhB3Ki9"
   },
   "source": [
    "## Load data"
   ]
  },
  {
   "cell_type": "code",
   "execution_count": null,
   "metadata": {
    "ExecuteTime": {
     "end_time": "2022-06-04T00:46:00.270167Z",
     "start_time": "2022-06-04T00:46:00.262190Z"
    },
    "id": "zU4UtRCPw3Ya"
   },
   "outputs": [],
   "source": [
    "# Load our dataset\n",
    "df = spark.read.csv(\"../../data/Bai2/mushrooms.csv\",header=True,inferSchema=True)"
   ]
  },
  {
   "cell_type": "markdown",
   "metadata": {
    "id": "3XVHfcI53GkU"
   },
   "source": [
    "## Import modules"
   ]
  },
  {
   "cell_type": "code",
   "execution_count": null,
   "metadata": {
    "id": "2G3Eg0Jvw9br"
   },
   "outputs": [],
   "source": [
    "from pyspark import SparkContext\n",
    "from pyspark.sql import SparkSession, Row\n",
    "from pyspark.ml.feature import VectorAssembler, StringIndexer, OneHotEncoder\n",
    "from pyspark.ml import Pipeline\n",
    "from pyspark.ml.classification import DecisionTreeClassifier, RandomForestClassifier\n",
    "from pyspark.ml.evaluation import MulticlassClassificationEvaluator"
   ]
  },
  {
   "cell_type": "markdown",
   "metadata": {
    "id": "JUrXat7E3QBD"
   },
   "source": [
    "## Preprocess feature columns"
   ]
  },
  {
   "cell_type": "code",
   "execution_count": null,
   "metadata": {
    "colab": {
     "base_uri": "https://localhost:8080/"
    },
    "executionInfo": {
     "elapsed": 333,
     "status": "ok",
     "timestamp": 1654196509677,
     "user": {
      "displayName": "Lộc Lê Thành",
      "userId": "02423562964459752869"
     },
     "user_tz": -420
    },
    "id": "37m8TP4bw-0L",
    "outputId": "25bee6d3-84b1-4c7d-8aa9-3b9bbd102388"
   },
   "outputs": [],
   "source": [
    "in_cols = df.schema.names[1:]\n",
    "in_cols"
   ]
  },
  {
   "cell_type": "code",
   "execution_count": null,
   "metadata": {
    "id": "Gcq8SJP_xNr-"
   },
   "outputs": [],
   "source": [
    "# Convert the string into numerical code\n",
    "# label encoding\n",
    "for col in in_cols:\n",
    "  genderEncoder = StringIndexer(inputCol= col, outputCol= col + \" encode\").fit(df)\n",
    "  df = genderEncoder.transform(df)"
   ]
  },
  {
   "cell_type": "code",
   "execution_count": null,
   "metadata": {
    "id": "-dr1c4zwxRej"
   },
   "outputs": [],
   "source": [
    "label_indexer = StringIndexer(inputCol=df.schema.names[0], outputCol='label').fit(df)\n",
    "df = label_indexer.transform(df)"
   ]
  },
  {
   "cell_type": "code",
   "execution_count": null,
   "metadata": {
    "id": "38ogvAiuxc-s"
   },
   "outputs": [],
   "source": [
    "df1 = df.select('label', 'cap-shape encode', 'cap-surface encode', 'cap-color encode', 'bruises encode', 'odor encode', 'gill-attachment encode', 'gill-spacing encode', 'gill-size encode', 'gill-color encode', 'stalk-shape encode', 'stalk-root encode', 'stalk-surface-above-ring encode', 'stalk-surface-below-ring encode', 'stalk-color-above-ring encode', 'stalk-color-below-ring encode', 'veil-type encode', 'veil-color encode', 'ring-number encode', 'ring-type encode', 'spore-print-color encode', 'population encode', 'habitat encode')"
   ]
  },
  {
   "cell_type": "code",
   "execution_count": null,
   "metadata": {
    "colab": {
     "base_uri": "https://localhost:8080/"
    },
    "executionInfo": {
     "elapsed": 4465,
     "status": "ok",
     "timestamp": 1654196236985,
     "user": {
      "displayName": "Lộc Lê Thành",
      "userId": "02423562964459752869"
     },
     "user_tz": -420
    },
    "id": "kx44ckqnxnJL",
    "outputId": "17a6b10a-30ce-4f2a-d929-fd4919a4f87c"
   },
   "outputs": [],
   "source": [
    "print(df1.describe().show())"
   ]
  },
  {
   "cell_type": "code",
   "execution_count": null,
   "metadata": {
    "id": "HiOsMaIDx1yH"
   },
   "outputs": [],
   "source": [
    "# Remove \"veil-type encode\" column\n",
    "df1 = df1.drop(\"veil-type encode\")"
   ]
  },
  {
   "cell_type": "code",
   "execution_count": null,
   "metadata": {
    "id": "TGOWzsGDyJC3"
   },
   "outputs": [],
   "source": [
    "# VectorAsm\n",
    "vec_assembler = VectorAssembler(inputCols=df1.columns[1:],outputCol='features')"
   ]
  },
  {
   "cell_type": "code",
   "execution_count": null,
   "metadata": {
    "id": "dLHbfbhkyUUV"
   },
   "outputs": [],
   "source": [
    "main_df = vec_assembler.transform(df1)"
   ]
  },
  {
   "cell_type": "code",
   "execution_count": null,
   "metadata": {
    "colab": {
     "base_uri": "https://localhost:8080/"
    },
    "executionInfo": {
     "elapsed": 350,
     "status": "ok",
     "timestamp": 1654197226498,
     "user": {
      "displayName": "Lộc Lê Thành",
      "userId": "02423562964459752869"
     },
     "user_tz": -420
    },
    "id": "qVFZcfRBygys",
    "outputId": "dd649391-b602-4d9f-b40f-b67470b04199"
   },
   "outputs": [],
   "source": [
    "main_df.show(5)"
   ]
  },
  {
   "cell_type": "code",
   "execution_count": null,
   "metadata": {
    "id": "rC2dmq3c1qjs"
   },
   "outputs": [],
   "source": [
    "main_df = main_df.select(['features', 'label'])"
   ]
  },
  {
   "cell_type": "markdown",
   "metadata": {
    "id": "dtjzf92y4X1j"
   },
   "source": [
    "## 1. Train-test split"
   ]
  },
  {
   "cell_type": "code",
   "execution_count": null,
   "metadata": {
    "id": "banoaAg2yjmO"
   },
   "outputs": [],
   "source": [
    "(df_train, df_val) = main_df.randomSplit([0.8, 0.2], seed=2022)"
   ]
  },
  {
   "cell_type": "markdown",
   "metadata": {
    "id": "FJLYE0Dy45JM"
   },
   "source": [
    "## 2.  Decision tree model"
   ]
  },
  {
   "cell_type": "code",
   "execution_count": null,
   "metadata": {
    "id": "AGz-bPt0zrHD"
   },
   "outputs": [],
   "source": [
    "dtc = DecisionTreeClassifier(featuresCol=\"features\", labelCol=\"label\")\n",
    "dtc = dtc.fit(df_train)"
   ]
  },
  {
   "cell_type": "code",
   "execution_count": null,
   "metadata": {
    "colab": {
     "base_uri": "https://localhost:8080/"
    },
    "executionInfo": {
     "elapsed": 891,
     "status": "ok",
     "timestamp": 1654197403662,
     "user": {
      "displayName": "Lộc Lê Thành",
      "userId": "02423562964459752869"
     },
     "user_tz": -420
    },
    "id": "EnTCTQe7158_",
    "outputId": "d995e0e3-0860-4be8-fd50-bd9ea28c1efa"
   },
   "outputs": [],
   "source": [
    "pred = dtc.transform(df_val)\n",
    "pred.show(3)"
   ]
  },
  {
   "cell_type": "markdown",
   "metadata": {
    "id": "qo4Qg19q5XUL"
   },
   "source": [
    "## 3. Random Forest Model"
   ]
  },
  {
   "cell_type": "code",
   "execution_count": null,
   "metadata": {
    "id": "jNfwFCb75lls"
   },
   "outputs": [],
   "source": [
    "rdc = RandomForestClassifier(featuresCol='features', labelCol='label')\n",
    "rdc = rdc.fit(df_train)"
   ]
  },
  {
   "cell_type": "code",
   "execution_count": null,
   "metadata": {
    "colab": {
     "base_uri": "https://localhost:8080/"
    },
    "executionInfo": {
     "elapsed": 1004,
     "status": "ok",
     "timestamp": 1654198603332,
     "user": {
      "displayName": "Lộc Lê Thành",
      "userId": "02423562964459752869"
     },
     "user_tz": -420
    },
    "id": "DZwXPzkW60sG",
    "outputId": "f1178de6-12dc-46e8-8f49-429399b0ea7b"
   },
   "outputs": [],
   "source": [
    "pred1 = rdc.transform(df_val)\n",
    "pred1.show(3)"
   ]
  },
  {
   "cell_type": "markdown",
   "metadata": {
    "id": "h4x2z39B66i9"
   },
   "source": [
    "## 4. Evaluate models"
   ]
  },
  {
   "cell_type": "markdown",
   "metadata": {
    "id": "ZGLl7x9C7Biz"
   },
   "source": [
    "### Decision Tree"
   ]
  },
  {
   "cell_type": "code",
   "execution_count": null,
   "metadata": {
    "colab": {
     "base_uri": "https://localhost:8080/"
    },
    "executionInfo": {
     "elapsed": 1191,
     "status": "ok",
     "timestamp": 1654197446346,
     "user": {
      "displayName": "Lộc Lê Thành",
      "userId": "02423562964459752869"
     },
     "user_tz": -420
    },
    "id": "8RJTTB_w2Thb",
    "outputId": "40fc9595-b63f-43d6-cada-7c3719848978"
   },
   "outputs": [],
   "source": [
    "evaluator=MulticlassClassificationEvaluator(predictionCol=\"prediction\")\n",
    "acc = evaluator.evaluate(pred)\n",
    "print(\"Decionsion Tree Prediction Accuracy: \", acc)"
   ]
  },
  {
   "cell_type": "markdown",
   "metadata": {
    "id": "DUQ3TZPE7KID"
   },
   "source": [
    "### Random Forest"
   ]
  },
  {
   "cell_type": "code",
   "execution_count": null,
   "metadata": {
    "colab": {
     "base_uri": "https://localhost:8080/"
    },
    "executionInfo": {
     "elapsed": 1170,
     "status": "ok",
     "timestamp": 1654198742790,
     "user": {
      "displayName": "Lộc Lê Thành",
      "userId": "02423562964459752869"
     },
     "user_tz": -420
    },
    "id": "3aeeoLTc2YC0",
    "outputId": "06819f25-3374-412a-8837-1a112316df98"
   },
   "outputs": [],
   "source": [
    "evaluator1=MulticlassClassificationEvaluator(predictionCol=\"prediction\")\n",
    "acc1 = evaluator1.evaluate(pred1)\n",
    "print(\"Random Forest Prediction Accuracy: \", acc1)"
   ]
  },
  {
   "cell_type": "markdown",
   "metadata": {
    "id": "zMhOZtEv7lIN"
   },
   "source": [
    "## 5. Use Pipeline to set up the above steps as a thread"
   ]
  },
  {
   "cell_type": "code",
   "execution_count": null,
   "metadata": {
    "id": "cC1SorOo8IwT"
   },
   "outputs": [],
   "source": [
    "# Reload data\n",
    "df = spark.read.csv(\"/content/drive/MyDrive/Colab Notebooks/Data/mushrooms.csv\",header=True,inferSchema=True)"
   ]
  },
  {
   "cell_type": "code",
   "execution_count": null,
   "metadata": {
    "id": "8yEdQHUu7adU"
   },
   "outputs": [],
   "source": [
    "# Get all columns except \"class\" column\n",
    "in_cols = df.schema.names[1:]\n",
    "\n",
    "\n",
    "# Create a list of StringIndexer objects to convert strings to integer\n",
    "string_indexers = [StringIndexer(inputCol=col, outputCol=col+'_index') for col in in_cols]\n",
    "\n",
    "# Create a list of OneHotEncoder objects to convert integer indices of cat levels to one-hot encoded columns\n",
    "onehot_encoders = [OneHotEncoder(dropLast=False, inputCol=col+'_index', outputCol=col+'_onehot') for col in in_cols]\n",
    "\n",
    "# Create a VectorAssembler object that assembles all the one-hot encoded columns into one column\n",
    "onehot_cols = [col+'_onehot' for col in in_cols]\n",
    "feat_assembler = VectorAssembler(inputCols=onehot_cols, outputCol='features')\n",
    "\n",
    "# Create a StringIndexer object that converts \"class\" column from {e, p} to {0, 1}\n",
    "label_indexer = StringIndexer(inputCol=df.schema.names[0], outputCol='label')\n",
    "\n",
    "# Create a Pipeline object that combines all the transformations we defined above\n",
    "pipeline = Pipeline(stages=string_indexers+onehot_encoders+[feat_assembler, label_indexer])\n",
    "\n",
    "\n",
    "# Use the pipeline object to transform our dataframe\n",
    "mushrooms_trans = pipeline.fit(df).transform(df).cache()"
   ]
  },
  {
   "cell_type": "code",
   "execution_count": null,
   "metadata": {
    "id": "o0DkWtuw-L8O"
   },
   "outputs": [],
   "source": [
    "mushrooms_train, mushrooms_val = mushrooms_trans.randomSplit([0.8, 0.2], seed=2022)"
   ]
  },
  {
   "cell_type": "code",
   "execution_count": null,
   "metadata": {
    "id": "DOHd8vEX-uEU"
   },
   "outputs": [],
   "source": [
    "dtc_pipeline = DecisionTreeClassifier(featuresCol=\"features\", labelCol=\"label\").fit(mushrooms_train)\n",
    "rdc_pipeline = RandomForestClassifier(featuresCol='features', labelCol='label').fit(mushrooms_train)"
   ]
  },
  {
   "cell_type": "code",
   "execution_count": null,
   "metadata": {
    "id": "y6_x2FKp_oY_"
   },
   "outputs": [],
   "source": [
    "pred_pipeline = dtc_pipeline.transform(mushrooms_val)\n",
    "pred1_pipeline = rdc_pipeline.transform(mushrooms_val)"
   ]
  },
  {
   "cell_type": "code",
   "execution_count": null,
   "metadata": {
    "id": "KZisfin2A1MR"
   },
   "outputs": [],
   "source": [
    "# Decision Tree\n",
    "evaluator_pipeline=MulticlassClassificationEvaluator(predictionCol=\"prediction\")\n",
    "acc_dtc = evaluator_pipeline.evaluate(pred_pipeline)\n",
    "\n",
    "# Random Forest\n",
    "evaluator1_pipeline=MulticlassClassificationEvaluator(predictionCol=\"prediction\")\n",
    "acc_rdc = evaluator1_pipeline.evaluate(pred1_pipeline)"
   ]
  },
  {
   "cell_type": "code",
   "execution_count": null,
   "metadata": {
    "colab": {
     "base_uri": "https://localhost:8080/"
    },
    "executionInfo": {
     "elapsed": 322,
     "status": "ok",
     "timestamp": 1654200448138,
     "user": {
      "displayName": "Lộc Lê Thành",
      "userId": "02423562964459752869"
     },
     "user_tz": -420
    },
    "id": "BDLdywjCBrA8",
    "outputId": "95dfceab-03ea-49af-a998-d5f7f5888887"
   },
   "outputs": [],
   "source": [
    "print(\"Decionsion Tree Prediction Accuracy: \", acc_dtc)\n",
    "print(\"Random Forest Prediction Accuracy: \", acc_rdc)"
   ]
  }
 ],
 "metadata": {
  "colab": {
   "authorship_tag": "ABX9TyMflFhhH1AJ6ZM14JRwQ7E6",
   "collapsed_sections": [],
   "name": "Lab04-Bai2-19120562.ipynb",
   "provenance": []
  },
  "kernelspec": {
   "display_name": "Python 3 (ipykernel)",
   "language": "python",
   "name": "python3"
  },
  "language_info": {
   "codemirror_mode": {
    "name": "ipython",
    "version": 3
   },
   "file_extension": ".py",
   "mimetype": "text/x-python",
   "name": "python",
   "nbconvert_exporter": "python",
   "pygments_lexer": "ipython3",
   "version": "3.9.7"
  },
  "toc": {
   "base_numbering": 1,
   "nav_menu": {},
   "number_sections": true,
   "sideBar": true,
   "skip_h1_title": false,
   "title_cell": "Table of Contents",
   "title_sidebar": "Contents",
   "toc_cell": false,
   "toc_position": {},
   "toc_section_display": true,
   "toc_window_display": false
  }
 },
 "nbformat": 4,
 "nbformat_minor": 1
}
