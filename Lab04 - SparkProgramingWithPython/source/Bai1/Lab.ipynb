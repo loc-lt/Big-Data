{
 "cells": [
  {
   "cell_type": "markdown",
   "id": "b725a05c",
   "metadata": {},
   "source": [
    "# Import các thư viện và khởi động Spark"
   ]
  },
  {
   "cell_type": "code",
   "execution_count": null,
   "id": "a06c0263",
   "metadata": {
    "ExecuteTime": {
     "end_time": "2022-06-04T00:29:49.824437Z",
     "start_time": "2022-06-04T00:29:49.809864Z"
    }
   },
   "outputs": [],
   "source": [
    "import findspark\n",
    "findspark.init()"
   ]
  },
  {
   "cell_type": "code",
   "execution_count": null,
   "id": "dca70311",
   "metadata": {
    "ExecuteTime": {
     "end_time": "2022-06-04T00:29:50.742280Z",
     "start_time": "2022-06-04T00:29:50.349584Z"
    }
   },
   "outputs": [],
   "source": [
    "import pyspark.sql.functions as f \n",
    "\n",
    "# Thư viện FPGrowth để áp dụng giải thuật khai thác mẫu phổ biến và luật kết hợp\n",
    "from pyspark.ml.fpm import FPGrowth"
   ]
  },
  {
   "cell_type": "code",
   "execution_count": null,
   "id": "ba7c2f9b",
   "metadata": {
    "ExecuteTime": {
     "end_time": "2022-06-04T00:29:52.282863Z",
     "start_time": "2022-06-04T00:29:52.276796Z"
    }
   },
   "outputs": [],
   "source": [
    "import pyspark # only run after findspark.init()\n",
    "from pyspark.sql import SparkSession\n"
   ]
  },
  {
   "cell_type": "code",
   "execution_count": null,
   "id": "29ba0a36",
   "metadata": {
    "ExecuteTime": {
     "end_time": "2022-06-04T00:29:56.236524Z",
     "start_time": "2022-06-04T00:29:52.764647Z"
    }
   },
   "outputs": [],
   "source": [
    "spark = SparkSession.builder.getOrCreate()"
   ]
  },
  {
   "cell_type": "markdown",
   "id": "ba4f2876",
   "metadata": {},
   "source": [
    "# Đọc hai tập tin vào PySpark và sử dụng các phương thức tiền xử lý dữ liệu phù hợp để đưa dữ liệu về một DataFrame gồm hai cột theo đúng thứ tự là mã giao dịch (order_id) và danh sách sản phẩm (thể hiện bằng tên, không phải mã sản phẩm"
   ]
  },
  {
   "cell_type": "markdown",
   "id": "ba675c23",
   "metadata": {},
   "source": [
    "## Đọc tập tin orders.csv và products.csv vào PySpark, lưu dưới dạng 2 dataframe orders và products"
   ]
  },
  {
   "cell_type": "code",
   "execution_count": null,
   "id": "40904601",
   "metadata": {
    "ExecuteTime": {
     "end_time": "2022-06-04T00:31:26.809491Z",
     "start_time": "2022-06-04T00:31:26.345677Z"
    }
   },
   "outputs": [],
   "source": [
    "orders = spark.read.load(\"../../data/Bai1/orders.csv\", format=\"csv\", header=True, delimiter=\",\")\n",
    "products = spark.read.load(\"../../data/Bai1/products.csv\", format=\"csv\", header=True, delimiter=\",\")"
   ]
  },
  {
   "cell_type": "markdown",
   "id": "d4abc3b3",
   "metadata": {},
   "source": [
    "## Dataframe orders gồm 4 cột order_id, product_id, add_to_cart_order, reordered\n"
   ]
  },
  {
   "cell_type": "code",
   "execution_count": null,
   "id": "f2ec98da",
   "metadata": {
    "ExecuteTime": {
     "end_time": "2022-06-02T09:14:17.738232Z",
     "start_time": "2022-06-02T09:14:17.528390Z"
    }
   },
   "outputs": [],
   "source": [
    "orders.show()"
   ]
  },
  {
   "cell_type": "markdown",
   "id": "28c328d9",
   "metadata": {},
   "source": [
    "## Dataframe products gồm 4 cột product_id, product_name, aisle_id, department_id\n"
   ]
  },
  {
   "cell_type": "code",
   "execution_count": null,
   "id": "d0a188b9",
   "metadata": {
    "ExecuteTime": {
     "end_time": "2022-06-02T09:14:23.263571Z",
     "start_time": "2022-06-02T09:14:23.065176Z"
    }
   },
   "outputs": [],
   "source": [
    "products.show()"
   ]
  },
  {
   "cell_type": "markdown",
   "id": "c3354b4f",
   "metadata": {},
   "source": [
    "## Tiền xử lý dữ liệu"
   ]
  },
  {
   "cell_type": "code",
   "execution_count": null,
   "id": "fdd38f38",
   "metadata": {
    "ExecuteTime": {
     "end_time": "2022-06-02T09:15:02.753860Z",
     "start_time": "2022-06-02T09:14:39.854101Z"
    }
   },
   "outputs": [],
   "source": [
    "# Dùng lệnh join để nhóm 2 dataframe dựa vào cột product_id của cả 2 dataframe\n",
    "# Sau đó nhóm theo cột order_id bằng lệnh groupby\n",
    "# sau đó tạo cột products chứa danh sách các product_name thuộc dòng có order_id tương ứng bằng hàm collect_list của pyspark.sql\n",
    "# Đưa cột order_id từ chuỗi về loại số thực sau đó sắp xếp cột này từ bé đến lớn (lệnh orderBy) để dễ theo dõi kết quả\n",
    "\n",
    "df = orders.join(products,\n",
    "               products.product_id == orders.product_id,\n",
    "               \"inner\")\\\n",
    ".groupby('order_id').agg(f.collect_list(\"product_name\").alias('products'))\\\n",
    ".withColumn(\"order_id\", orders[\"order_id\"] - 0)\\\n",
    ".orderBy(\"order_id\")\n",
    "df.show()\n",
    "print(f'Dataframe kết quả có tổng cộng {df.count()} dòng')"
   ]
  },
  {
   "cell_type": "markdown",
   "id": "9d5f5632",
   "metadata": {},
   "source": [
    "# Áp dụng giải thuật khai thác mẫu phổ biến và luật kết hợp trong gói pyspark.ml.fpm. Thử nghiệm với một số bộ giá trị ngưỡng support và confidence.\n"
   ]
  },
  {
   "cell_type": "markdown",
   "id": "38bca7d9",
   "metadata": {},
   "source": [
    "## (minSupport,minConfidence) = (0.2,0.2)"
   ]
  },
  {
   "cell_type": "code",
   "execution_count": null,
   "id": "a2dd19f3",
   "metadata": {
    "ExecuteTime": {
     "end_time": "2022-06-02T09:17:19.851234Z",
     "start_time": "2022-06-02T09:15:12.697211Z"
    }
   },
   "outputs": [],
   "source": [
    "fpGrowth = FPGrowth(itemsCol=\"products\", minSupport=0.2, minConfidence=0.2)\n",
    "\n",
    "model = fpGrowth.fit(df)\n",
    "\n",
    "# Tập mẫu phổ biến patternsDF\n",
    "patternsDF = model.freqItemsets\n",
    "\n",
    "# Tập luật kết hợp associationRules\n",
    "rulesDF = model.associationRules\n",
    "\n",
    "print(f'Có {patternsDF.count()} mẫu phổ biến và {rulesDF.count()} luật kết hợp đối với bộ giá trị này')\n",
    "\n",
    "patternsDF.show(patternsDF.count(), False)\n",
    "\n",
    "rulesDF.show(rulesDF.count(), False)"
   ]
  },
  {
   "cell_type": "markdown",
   "id": "de32b91c",
   "metadata": {},
   "source": [
    "## (minSupport,minConfidence) = (0.1,0.1)"
   ]
  },
  {
   "cell_type": "code",
   "execution_count": null,
   "id": "594bbf0a",
   "metadata": {
    "ExecuteTime": {
     "end_time": "2022-06-02T09:18:58.405367Z",
     "start_time": "2022-06-02T09:17:19.855457Z"
    }
   },
   "outputs": [],
   "source": [
    "fpGrowth = FPGrowth(itemsCol=\"products\", minSupport=0.1, minConfidence=0.1)\n",
    "\n",
    "model = fpGrowth.fit(df)\n",
    "# Tập mẫu phổ biến patternsDF\n",
    "patternsDF = model.freqItemsets\n",
    "# Tập luật kết hợp associationRules\n",
    "rulesDF = model.associationRules\n",
    "\n",
    "print(f'Có {patternsDF.count()} mẫu phổ biến và {rulesDF.count()} luật kết hợp đối với bộ giá trị này')\n",
    "\n",
    "patternsDF.show(patternsDF.count(), False)\n",
    "\n",
    "rulesDF.show(rulesDF.count(), False)"
   ]
  },
  {
   "cell_type": "markdown",
   "id": "39a78995",
   "metadata": {},
   "source": [
    "## (minSupport,minConfidence) = (0.01,0.005)"
   ]
  },
  {
   "cell_type": "code",
   "execution_count": null,
   "id": "30154027",
   "metadata": {
    "ExecuteTime": {
     "end_time": "2022-06-02T09:21:11.587800Z",
     "start_time": "2022-06-02T09:18:58.408166Z"
    }
   },
   "outputs": [],
   "source": [
    "fpGrowth = FPGrowth(itemsCol=\"products\", minSupport=0.01, minConfidence=0.005)\n",
    "model = fpGrowth.fit(df)\n",
    "# get the frequent itemsets\n",
    "patternsDF = model.freqItemsets\n",
    "# get the association rules\n",
    "rulesDF = model.associationRules\n",
    "\n",
    "print(f'Có {patternsDF.count()} mẫu phổ biến và {rulesDF.count()} luật kết hợp đối với bộ giá trị này')\n",
    "\n",
    "patternsDF.show(patternsDF.count(), False)\n",
    "\n",
    "rulesDF.show(rulesDF.count(), False)"
   ]
  },
  {
   "cell_type": "markdown",
   "id": "f6da1bf0",
   "metadata": {},
   "source": [
    "## (minSupport,minConfidence) = (0.005,0.001)"
   ]
  },
  {
   "cell_type": "code",
   "execution_count": null,
   "id": "29c0ba22",
   "metadata": {
    "ExecuteTime": {
     "end_time": "2022-06-02T09:23:58.895215Z",
     "start_time": "2022-06-02T09:21:11.592721Z"
    }
   },
   "outputs": [],
   "source": [
    "fpGrowth = FPGrowth(itemsCol=\"products\", minSupport=0.005, minConfidence=0.001)\n",
    "model = fpGrowth.fit(df)\n",
    "# get the frequent itemsets\n",
    "patternsDF = model.freqItemsets\n",
    "# get the association rules\n",
    "rulesDF = model.associationRules\n",
    "\n",
    "print(f'Có {patternsDF.count()} mẫu phổ biến và {rulesDF.count()} luật kết hợp đối với bộ giá trị này')\n",
    "\n",
    "patternsDF.show(patternsDF.count(), False)\n",
    "\n",
    "rulesDF.show(rulesDF.count(), False)"
   ]
  },
  {
   "cell_type": "markdown",
   "id": "2fc1deac",
   "metadata": {},
   "source": [
    "# Bạn có nhận thấy vấn đề gì về hình thức của các luật được tìm thấy hay không (ta không cần quan tâm ngữ nghĩa của dữ liệu). Nếu có, hãy khắc phục điều này"
   ]
  },
  {
   "cell_type": "markdown",
   "id": "7573d503",
   "metadata": {
    "ExecuteTime": {
     "end_time": "2022-05-29T06:52:28.770414Z",
     "start_time": "2022-05-29T06:52:25.697900Z"
    }
   },
   "source": [
    "## Vấn đề 1:\n",
    "- Với minsupport và minconfidence lớn, cụ thể là từ 0.2 trở lên thì không tìm được mẫu phổ biến cũng như luật nào \n",
    "- Để khắc phục thì ta có thể giảm cả 2 tham số xuống dưới ít nhất 0.1"
   ]
  },
  {
   "cell_type": "markdown",
   "id": "a19872c8",
   "metadata": {},
   "source": [
    "## Vấn đề 2:\n",
    "- Khi đã giảm cả 2 tham số thì ta có thể thấy ở phần antecedent và consequent đều chỉ có 1 sản phẩm ở tất cả các luật\n",
    "- Để khắc phục điều này, ta có thể giảm minSupport xuống 0.005 và giảm minConfindence xuống ít nhất là 0.001 để ở phần antecedent xuất hiện các luật có từ 2 sản phẩm trở lên như Organic Strawberries, Bag of Organic Bananas -> Organic Hass Avocado hay Organic Hass Avocado, Bag of Organic Bananas -> Organic Strawberries"
   ]
  }
 ],
 "metadata": {
  "kernelspec": {
   "display_name": "Python 3 (ipykernel)",
   "language": "python",
   "name": "python3"
  },
  "language_info": {
   "codemirror_mode": {
    "name": "ipython",
    "version": 3
   },
   "file_extension": ".py",
   "mimetype": "text/x-python",
   "name": "python",
   "nbconvert_exporter": "python",
   "pygments_lexer": "ipython3",
   "version": "3.9.7"
  },
  "toc": {
   "base_numbering": 1,
   "nav_menu": {},
   "number_sections": true,
   "sideBar": true,
   "skip_h1_title": false,
   "title_cell": "Table of Contents",
   "title_sidebar": "Contents",
   "toc_cell": false,
   "toc_position": {},
   "toc_section_display": true,
   "toc_window_display": false
  }
 },
 "nbformat": 4,
 "nbformat_minor": 5
}
